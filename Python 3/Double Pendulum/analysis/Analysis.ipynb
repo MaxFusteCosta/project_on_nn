{
 "cells": [
  {
   "cell_type": "code",
   "execution_count": 1,
   "id": "5d2935bd",
   "metadata": {},
   "outputs": [
    {
     "name": "stdout",
     "output_type": "stream",
     "text": [
      "WARNING:tensorflow:From C:\\Users\\maxfu\\anaconda3\\lib\\site-packages\\tensorflow\\python\\compat\\v2_compat.py:107: disable_resource_variables (from tensorflow.python.ops.variable_scope) is deprecated and will be removed in a future version.\n",
      "Instructions for updating:\n",
      "non-resource variables are not supported in the long term\n"
     ]
    }
   ],
   "source": [
    "import sys\n",
    "sys.path.append(r'C:\\Users\\maxfu\\OneDrive\\Documentos\\Master\\Maximaster\\Year 2 - Period 1\\Project\\Double Pendulum\\Double Pendulum')\n",
    "import numpy as np\n",
    "from scinet import *\n",
    "import scinet.pendulum as edo\n",
    "import matplotlib.pyplot as plt\n",
    "from mpl_toolkits.mplot3d import Axes3D\n",
    "from matplotlib import cm\n",
    "from sklearn.feature_selection import mutual_info_regression\n",
    "from scipy.integrate import odeint"
   ]
  },
  {
   "cell_type": "markdown",
   "id": "cba5911c",
   "metadata": {},
   "source": [
    "# Data loading and testing #\n",
    "\n",
    "Once the program has been trained, we can check the output results."
   ]
  },
  {
   "cell_type": "code",
   "execution_count": 2,
   "id": "eeb12677",
   "metadata": {},
   "outputs": [
    {
     "name": "stdout",
     "output_type": "stream",
     "text": [
      "{'latent_size': 4, 'input_size': 1000, 'input2_size': 1, 'output_size': 1, 'encoder_num_units': [500, 100], 'decoder_num_units': [100, 100], 'tot_epochs': 6000, 'name': 'Unnamed', 'load_file': 'Double Pendulum V6 4N'}\n",
      "INFO:tensorflow:Restoring parameters from C:\\Users\\maxfu\\OneDrive\\Documentos\\Master\\Maximaster\\Year 2 - Period 1\\Project\\Double pendulum\\Double Pendulum\\tf_save/Double Pendulum V6 4N.ckpt\n",
      "Loaded network from file Double Pendulum V6 4N\n"
     ]
    }
   ],
   "source": [
    "saved = nn2.Network.from_saved('Double Pendulum data')"
   ]
  },
  {
   "cell_type": "markdown",
   "id": "de547883",
   "metadata": {},
   "source": [
    "We define the data generation functions for the predictions. "
   ]
  },
  {
   "cell_type": "code",
   "execution_count": 4,
   "id": "027f1219",
   "metadata": {},
   "outputs": [],
   "source": [
    "def derivatives(sol,t,L1,L2,m1,m2):\n",
    "    \n",
    "    g=9.81\n",
    "    Theta_1,Theta_1_dot,Theta_2,Theta_2_dot = sol\n",
    "    \n",
    "    C1=np.cos(Theta_1-Theta_2)\n",
    "    C2=np.sin(Theta_1-Theta_2)\n",
    "    \n",
    "    # The first derivative of Theta is named Z, and so the second derivative is named Z_dot\n",
    "    \n",
    "    Z_1=Theta_1_dot\n",
    "    Z_2=Theta_2_dot\n",
    "    Z_1_dot=(m2*g*np.sin(Theta_2)*C1-m2*C2*(L1*Z_1**2*C1+L2*Z_2**2)-(m1+m2)*g*np.sin(Theta_1))/(L1*(m1+m2*C2**2))\n",
    "    Z_2_dot=((m1+m2)*(L1*Z_1**2*C2-g*np.sin(Theta_2)+g*np.sin(Theta_1)*C1)+m2*L2*Z_2**2*C2*C1)/(L2*(m1+m2*C2**2))\n",
    "    \n",
    "    return Z_1,Z_1_dot,Z_2,Z_2_dot\n",
    "\n",
    "################################################################################################\n",
    "\n",
    "# This input generation is part of the first model. It is here in case we need to go back to it\n",
    "# but is currently unused.\n",
    "\n",
    "def gen_input(Theta_1_ini,Theta_2_ini,L1,L2,m1,m2, t_predicted):\n",
    "    \n",
    "    t_in = np.linspace(0, 5, 1000)\n",
    "    sol_i = np.array([Theta_1_ini,0,Theta_2_ini,0])\n",
    "    sol = np.array([odeint(derivatives, sol_i, t_in, args=(L1,L2,m1,m2)) for _ in t_predicted])\n",
    "    Theta_1,Theta_2=sol[:,:,0],sol[:,:,2]\n",
    "    time = np.reshape(t_predicted, (-1, 1))\n",
    "    out1 = time #dummy filler\n",
    "    out2 = time #dummy filler\n",
    "    return [Theta_1,Theta_2, time, out1, out2]\n",
    "\n",
    "################################################################################################\n",
    "\n",
    "def gen_input_2(Theta_1_ini,Theta_2_ini,L1,L2,m1,m2, t_predicted):\n",
    "    \n",
    "    t_in = np.linspace(0, 5, 1000)\n",
    "    sol_i = np.array([Theta_1_ini,0,Theta_2_ini,0])\n",
    "    sol = np.array([odeint(derivatives, sol_i, t_in, args=(L1,L2,m1,m2)) for _ in t_predicted])\n",
    "    Theta_1,Theta_2=sol[:,:,0],sol[:,:,2]\n",
    "    time = np.reshape(t_predicted, (-1, 1))\n",
    "    out = time #dummy filler\n",
    "    return [Theta_2, time, out]\n",
    "\n",
    "################################################################################################"
   ]
  },
  {
   "cell_type": "code",
   "execution_count": 5,
   "id": "0e2aabb6",
   "metadata": {},
   "outputs": [],
   "source": [
    "blue_color='#033cff'\n",
    "orange_color='#ff7700'"
   ]
  },
  {
   "cell_type": "code",
   "execution_count": 6,
   "id": "225e60b3",
   "metadata": {},
   "outputs": [],
   "source": [
    "def pendulum_prediction(net, Theta_1_i, Theta_2_i, L1, L2, m1, m2):    \n",
    "    \n",
    "    t_given = np.linspace(0, 10, 250)\n",
    "    t_predicted = np.linspace(0, 10, 250)\n",
    "    \n",
    "    ################################################\n",
    "    \n",
    "    sol_i_given = np.array([Theta_1_i,0,Theta_2_i,0])\n",
    "    sol_given = odeint(derivatives, sol_i_given, t_given, args=(L1,L2,m1,m2))\n",
    "    Theta_1_given,Theta_2_given=sol_given[:,0],sol_given[:,2]\n",
    "    \n",
    "    ################################################\n",
    "    \n",
    "    Theta_2_pred = net.run(gen_input_2(Theta_1_i,Theta_2_i,L1,L2,m1,m2, t_predicted), net.output).ravel()\n",
    "    print(Theta_2_pred.shape)\n",
    "    ################################################    \n",
    "    fig = plt.figure(figsize=(7, 5))\n",
    "    ax = fig.add_subplot(111)\n",
    "    ax.plot(t_given, Theta_2_given, color='darkorange', label='Given')\n",
    "    ax.plot(t_predicted, Theta_2_pred,'--', color='purple', label='Predicted')\n",
    "    ax.set_xlabel('$time$ [$s$]')\n",
    "    ax.set_ylabel('$x_{2}$ [$m$]')\n",
    "    plt.suptitle('Double Pendulum Prediction')\n",
    "    plt.title('Parameters: L1={0}, L2={1}, m1={2}, m2={3}'.format(\"%.2f\" % L1, \"%.2f\" % L2, \"%.2f\" % m1, \"%.2f\" % m2))\n",
    "    ax.grid()\n",
    "    handles, labels = ax.get_legend_handles_labels()\n",
    "    lgd=ax.legend(handles, labels,loc='upper right', shadow=True, ncol=1)\n",
    "    fig.tight_layout()\n",
    "    return fig"
   ]
  },
  {
   "cell_type": "code",
   "execution_count": 9,
   "id": "489a3cac",
   "metadata": {},
   "outputs": [],
   "source": [
    "# We can randomly select the initial parameters. This range is controlled so that  \n",
    "\n",
    "L1=np.random.uniform(1,1.15)\n",
    "L2=np.random.uniform(1,1.15)\n",
    "m1=np.random.uniform(1,1.15)\n",
    "m2=np.random.uniform(1,1.15)"
   ]
  },
  {
   "cell_type": "code",
   "execution_count": 10,
   "id": "c604a535",
   "metadata": {},
   "outputs": [
    {
     "name": "stdout",
     "output_type": "stream",
     "text": [
      "(250,)\n"
     ]
    },
    {
     "data": {
      "image/png": "[encoded data removed]",
      "text/plain": [
       "<Figure size 504x360 with 1 Axes>"
      ]
     },
     "metadata": {
      "needs_background": "light"
     },
     "output_type": "display_data"
    }
   ],
   "source": [
    "pendulum_prediction(saved, np.pi/36, np.pi/18, L1, L2, m1, m2);"
   ]
  },
  {
   "cell_type": "code",
   "execution_count": 10,
   "id": "c8d32932",
   "metadata": {},
   "outputs": [],
   "source": [
    "def double_pendulum_representation_plot(net, L1_range, L2_range, m1_range, m2_range, step_num=100, eval_time=7.5):\n",
    "\n",
    "    L_1 = np.linspace(*L1_range, num=step_num)\n",
    "    L_2 = np.linspace(*L2_range, num=step_num)\n",
    "    m_1 = np.linspace(*m1_range, num=step_num)\n",
    "    m_2 = np.linspace(*m2_range, num=step_num)\n",
    "\n",
    "    L1_grid, L2_grid, m1_grid, m2_grid = np.meshgrid(L_1,L_2,m_1,m_2)\n",
    "\n",
    "    out = np.array([net.run(gen_input(0, np.pi/8,L1,L2,m1,m2,[eval_time]), net.mu)[0] for L1,L2,m1,m2 in zip(np.ravel(L1_grid),np.ravel(L2_grid),np.ravel(m1_grid),np.ravel(m2_grid))])\n",
    "    fig = plt.figure(figsize=(net.latent_size*3.9, 2.1))\n",
    "    for i in range(net.latent_size):\n",
    "        zs = out[:, i]\n",
    "        ax = fig.add_subplot(1,4,i+1, projection='3d')\n",
    "        Z = np.reshape(zs, L1_grid.shape)\n",
    "        surf = ax.plot_surface(m1_grid_1, m2_grid_1, Z, rstride=1, cstride=1, cmap=cm.inferno, linewidth=0)\n",
    "        ax.set_xlabel(r'$m_{1}$ [$kg$]')\n",
    "        ax.set_ylabel(r'$m_{2}$ [$kg$]')\n",
    "        ax.set_zlabel('Latent activation {}'.format(i + 1))\n",
    "        if (i==2):\n",
    "            ax.set_zlim(-1,1) \n",
    "        ax.set_zticks([-1,-0.5,0,0.5,1])\n",
    "    fig.tight_layout()\n",
    "    return fig"
   ]
  },
  {
   "cell_type": "code",
   "execution_count": null,
   "id": "64e69589",
   "metadata": {},
   "outputs": [],
   "source": [
    "%matplotlib tk\n",
    "double_pendulum_representation_plot(saved, [1, 1.5], [1, 1.5], [1, 1.5], [1, 1.5]);"
   ]
  },
  {
   "cell_type": "code",
   "execution_count": null,
   "id": "eb845a3c",
   "metadata": {},
   "outputs": [],
   "source": []
  }
 ],
 "metadata": {
  "kernelspec": {
   "display_name": "Python 3",
   "language": "python",
   "name": "python3"
  },
  "language_info": {
   "codemirror_mode": {
    "name": "ipython",
    "version": 3
   },
   "file_extension": ".py",
   "mimetype": "text/x-python",
   "name": "python",
   "nbconvert_exporter": "python",
   "pygments_lexer": "ipython3",
   "version": "3.8.8"
  }
 },
 "nbformat": 4,
 "nbformat_minor": 5
}
