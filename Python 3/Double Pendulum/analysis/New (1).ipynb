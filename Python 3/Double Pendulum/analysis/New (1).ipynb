{
 "cells": [
  {
   "cell_type": "code",
   "execution_count": 1,
   "id": "5d2935bd",
   "metadata": {},
   "outputs": [
    {
     "name": "stdout",
     "output_type": "stream",
     "text": [
      "WARNING:tensorflow:From C:\\Users\\maxfu\\anaconda3\\lib\\site-packages\\tensorflow\\python\\compat\\v2_compat.py:107: disable_resource_variables (from tensorflow.python.ops.variable_scope) is deprecated and will be removed in a future version.\n",
      "Instructions for updating:\n",
      "non-resource variables are not supported in the long term\n"
     ]
    }
   ],
   "source": [
    "import sys\n",
    "sys.path.append(r'C:\\Users\\maxfu\\OneDrive\\Documentos\\Master\\Maximaster\\Year 2 - Period 1\\Project\\Double Pendulum\\Double Pendulum')\n",
    "import numpy as np\n",
    "from scinet import *\n",
    "import scinet.pendulum as edo"
   ]
  },
  {
   "cell_type": "code",
   "execution_count": 2,
   "id": "f857b5cd",
   "metadata": {},
   "outputs": [],
   "source": [
    "\"\"\"\n",
    "We start by generating the data. The parameters in the function are t_max (maximum value \n",
    "of the time), t_int (number of time steps desired), L1, L2, m1 and m2 (parameters of the\n",
    "pendulum) and Th1_i and Th2_i (initial values of the angles).\n",
    "\"\"\"\n",
    "\n",
    "edo.generate_data(10, 100, 1, 1, 1, 1, 3*np.pi/7, 3*np.pi/4, fileName='Pendulum data');"
   ]
  },
  {
   "cell_type": "code",
   "execution_count": 3,
   "id": "1c4879e6",
   "metadata": {},
   "outputs": [],
   "source": [
    "\"\"\"\n",
    "We extract the training data and the validation data and states. Here, the data are the cartesian\n",
    "coordinates and the states are the angles.\n",
    "\"\"\"\n",
    "td, vd, ts, vs = dl.load(8, 'Pendulum data')"
   ]
  },
  {
   "cell_type": "code",
   "execution_count": 4,
   "id": "d5c08043",
   "metadata": {},
   "outputs": [
    {
     "name": "stdout",
     "output_type": "stream",
     "text": [
      "(92, 4) (8, 4) (92, 2) (8, 2)\n"
     ]
    }
   ],
   "source": [
    "print(td.shape, vd.shape, ts.shape, vs.shape)"
   ]
  },
  {
   "cell_type": "markdown",
   "id": "a583a677",
   "metadata": {},
   "source": [
    "# Creation and Training of the NN #"
   ]
  },
  {
   "cell_type": "code",
   "execution_count": 6,
   "id": "0cff0275",
   "metadata": {},
   "outputs": [],
   "source": [
    "\"\"\"\n",
    "Next we create the NN. The parameters are the input size and latent size.\n",
    "\"\"\"\n",
    "\n",
    "net = nn.Network(20,100)"
   ]
  },
  {
   "cell_type": "code",
   "execution_count": 7,
   "id": "0ad8d82e",
   "metadata": {},
   "outputs": [
    {
     "data": {
      "application/vnd.jupyter.widget-view+json": {
       "model_id": "be8e539a09254134b0781f71df3a2d20",
       "version_major": 2,
       "version_minor": 0
      },
      "text/plain": [
       "  0%|          | 0/200 [00:00<?, ?it/s]"
      ]
     },
     "metadata": {},
     "output_type": "display_data"
    }
   ],
   "source": [
    "\"\"\"\n",
    "It is now time to train our data. From left to right, the parameters are the number of epochs,\n",
    "the batch size, the learning rate, the training data and the validation data.\n",
    "\"\"\"\n",
    "\n",
    "net.train(200, 256, 0.001, td, vd)\n",
    "\n",
    "# The error happens here (it does not pop but it does not look like it is training anything). \n",
    "# It might come from the data generation file as it runs that cell instantly as if it was doing\n",
    "# nothing."
   ]
  },
  {
   "cell_type": "code",
   "execution_count": null,
   "id": "44468ec2",
   "metadata": {},
   "outputs": [],
   "source": []
  }
 ],
 "metadata": {
  "kernelspec": {
   "display_name": "Python 3",
   "language": "python",
   "name": "python3"
  },
  "language_info": {
   "codemirror_mode": {
    "name": "ipython",
    "version": 3
   },
   "file_extension": ".py",
   "mimetype": "text/x-python",
   "name": "python",
   "nbconvert_exporter": "python",
   "pygments_lexer": "ipython3",
   "version": "3.8.8"
  }
 },
 "nbformat": 4,
 "nbformat_minor": 5
}
