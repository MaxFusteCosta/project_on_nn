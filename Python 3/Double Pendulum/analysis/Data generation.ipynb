{
 "cells": [
  {
   "cell_type": "code",
   "execution_count": 1,
   "id": "993d1f0c",
   "metadata": {},
   "outputs": [
    {
     "name": "stdout",
     "output_type": "stream",
     "text": [
      "WARNING:tensorflow:From C:\\Users\\maxfu\\anaconda3\\lib\\site-packages\\tensorflow\\python\\compat\\v2_compat.py:107: disable_resource_variables (from tensorflow.python.ops.variable_scope) is deprecated and will be removed in a future version.\n",
      "Instructions for updating:\n",
      "non-resource variables are not supported in the long term\n"
     ]
    }
   ],
   "source": [
    "import sys\n",
    "sys.path.append(r'C:\\Users\\maxfu\\OneDrive\\Documentos\\Master\\Maximaster\\Year 2 - Period 1\\Project\\Double Pendulum\\Double Pendulum')\n",
    "import numpy as np\n",
    "from scinet import *\n",
    "import scinet.pendulum as edo"
   ]
  },
  {
   "cell_type": "markdown",
   "id": "41c0c390",
   "metadata": {},
   "source": [
    "# Data Generation #\n",
    "\n",
    "First of all, we need to generate the data. The parameters of the function are described below:\n",
    "\n",
    "    1. N -> The number of runs that will be done.\n",
    "    2. t_max -> maximum value of the time.\n",
    "    3. t_int -> number of time steps desired.\n",
    "    4. L1 and L2 -> lengths of the rods of the double pendulum.\n",
    "    5. m1 and m2 -> masses of the balls at the end of each rod.\n",
    "    6. Th1_i and Th2_i -> initial values of the angles, only used for the first step, they are fixed.        The first one is fixed to be 0 and the second one is fixed to be pi/8.\n",
    "    \n",
    "Now onto the function. First of all we define N values of L1,L2,m1,m2 and the initial angles. Each of these is used in one run of the code.\n",
    "\n",
    "Then the code, considering the time interval that we've given in the beginning, doubles that time interval and generates N random values of the time within this interval. This is used later to calculate the position of the pendulum in a bigger span of time so that we can compare it with the prediction from the model.\n",
    "\n",
    "Lastly, the code solves the equation of the pendulum N times in two sets. The first set considers the t spacing and the second one considers the t_pred that was calculate before. \n",
    "\n",
    "The data is saved in the format th1,th2 (the ones calculated with t), t_pred, and th1_pred, th2_pred (the ones calculated with t_pred). \n",
    "\n",
    "The parameters are saved in the format L1,L2,m1,m2."
   ]
  },
  {
   "cell_type": "code",
   "execution_count": 2,
   "id": "9764745e",
   "metadata": {},
   "outputs": [
    {
     "name": "stdout",
     "output_type": "stream",
     "text": [
      "Calculations are at 0.0 %\n",
      "Calculations are at 10.0 %\n",
      "Calculations are at 20.0 %\n",
      "Calculations are at 30.0 %\n",
      "Calculations are at 40.0 %\n",
      "Calculations are at 50.0 %\n",
      "Calculations are at 60.0 %\n",
      "Calculations are at 70.0 %\n",
      "Calculations are at 80.0 %\n",
      "Calculations are at 90.0 %\n",
      "100\n",
      "(100, 50)\n"
     ]
    },
    {
     "data": {
      "text/plain": [
       "'Data generation complete'"
      ]
     },
     "execution_count": 2,
     "metadata": {},
     "output_type": "execute_result"
    }
   ],
   "source": [
    "edo.generate_data(100, 5, 50, L1_int=[1,4], L2_int=[1,4], m1_int=[1,4], m2_int=[1,4],\n",
    "              Theta_1_ini_int=[0,0], Theta_2_ini_int=[np.pi/8,np.pi/8],\n",
    "                  show=True, fileName='test')"
   ]
  },
  {
   "cell_type": "markdown",
   "id": "fb5dccb8",
   "metadata": {},
   "source": [
    "# Training the data and saving it for later use #\n",
    "\n",
    "Once the data is generated, we load it to use it for the training. The data loader file requires two arguments:\n",
    "\n",
    "    1. validation_size_p -> the percentage of the data that goes into validation.\n",
    "    2. file name -> name of the file.\n",
    "    \n",
    "The file separates the data according to the first argument. In order, the outputs of the function are training data, validation data, training states, validation states and parameters (which is a blank argument and seems to have no use)."
   ]
  },
  {
   "cell_type": "code",
   "execution_count": 3,
   "id": "d045e838",
   "metadata": {},
   "outputs": [],
   "source": [
    "td, vd, ts, vs, states=dl.load(20, 'Double Pendulum')"
   ]
  },
  {
   "cell_type": "code",
   "execution_count": 6,
   "id": "2efad198",
   "metadata": {},
   "outputs": [],
   "source": [
    "net = nn.Network(50,50,4,1,50,50,encoder_num_units=[500, 100])"
   ]
  },
  {
   "cell_type": "code",
   "execution_count": 7,
   "id": "2163ce50",
   "metadata": {},
   "outputs": [
    {
     "data": {
      "text/plain": [
       "170.00932"
      ]
     },
     "execution_count": 7,
     "metadata": {},
     "output_type": "execute_result"
    }
   ],
   "source": [
    "net.run(td, net.recon_loss)"
   ]
  },
  {
   "cell_type": "code",
   "execution_count": 6,
   "id": "67f044fc",
   "metadata": {},
   "outputs": [
    {
     "data": {
      "application/vnd.jupyter.widget-view+json": {
       "model_id": "312ccfd795424fee96518cc5488c3df3",
       "version_major": 2,
       "version_minor": 0
      },
      "text/plain": [
       "  0%|          | 0/1000 [00:00<?, ?it/s]"
      ]
     },
     "metadata": {},
     "output_type": "display_data"
    }
   ],
   "source": [
    "# Train\n",
    "net.train(1000, 512, 0.001, td, vd)"
   ]
  },
  {
   "cell_type": "code",
   "execution_count": 7,
   "id": "64b543ea",
   "metadata": {},
   "outputs": [
    {
     "data": {
      "text/plain": [
       "0.0006145106"
      ]
     },
     "execution_count": 7,
     "metadata": {},
     "output_type": "execute_result"
    }
   ],
   "source": [
    "net.run(vd, net.recon_loss)"
   ]
  },
  {
   "cell_type": "code",
   "execution_count": 8,
   "id": "8d712f42",
   "metadata": {},
   "outputs": [
    {
     "name": "stdout",
     "output_type": "stream",
     "text": [
      "Saved network to file Double Pendulum data\n"
     ]
    }
   ],
   "source": [
    "net.save('Double Pendulum data')"
   ]
  },
  {
   "cell_type": "code",
   "execution_count": null,
   "id": "c7bab58b",
   "metadata": {},
   "outputs": [],
   "source": []
  }
 ],
 "metadata": {
  "kernelspec": {
   "display_name": "Python 3",
   "language": "python",
   "name": "python3"
  },
  "language_info": {
   "codemirror_mode": {
    "name": "ipython",
    "version": 3
   },
   "file_extension": ".py",
   "mimetype": "text/x-python",
   "name": "python",
   "nbconvert_exporter": "python",
   "pygments_lexer": "ipython3",
   "version": "3.8.8"
  }
 },
 "nbformat": 4,
 "nbformat_minor": 5
}
