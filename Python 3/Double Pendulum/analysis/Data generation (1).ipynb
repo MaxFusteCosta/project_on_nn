{
 "cells": [
  {
   "cell_type": "code",
   "execution_count": 1,
   "id": "993d1f0c",
   "metadata": {},
   "outputs": [
    {
     "name": "stdout",
     "output_type": "stream",
     "text": [
      "WARNING:tensorflow:From C:\\Users\\maxfu\\anaconda3\\lib\\site-packages\\tensorflow\\python\\compat\\v2_compat.py:107: disable_resource_variables (from tensorflow.python.ops.variable_scope) is deprecated and will be removed in a future version.\n",
      "Instructions for updating:\n",
      "non-resource variables are not supported in the long term\n"
     ]
    }
   ],
   "source": [
    "import sys\n",
    "sys.path.append(r'C:\\Users\\maxfu\\OneDrive\\Documentos\\Master\\Maximaster\\Year 2 - Period 1\\Project\\Double Pendulum\\Double Pendulum')\n",
    "import numpy as np\n",
    "from scinet import *\n",
    "import scinet.pendulum as edo"
   ]
  },
  {
   "cell_type": "markdown",
   "id": "41c0c390",
   "metadata": {},
   "source": [
    "# Data Generation #\n",
    "\n",
    "First of all, we need to generate the data. The parameters of the function are described below:\n",
    "\n",
    "    1. N -> The number of runs that will be done.\n",
    "    2. t_max -> maximum value of the time.\n",
    "    3. t_int -> number of time steps desired.\n",
    "    4. L1 and L2 -> lengths of the rods of the double pendulum.\n",
    "    5. m1 and m2 -> masses of the balls at the end of each rod.\n",
    "    6. Th1_i and Th2_i -> initial values of the angles, only used for the first step, they are fixed.        The first one is fixed to be 0 and the second one is fixed to be pi/8.\n",
    "    \n",
    "Now onto the function. First of all we define N values of L1,L2,m1,m2 and the initial angles. Each of these is used in one run of the code.\n",
    "\n",
    "Then the code, considering the time interval that we've given in the beginning, doubles that time interval and generates N random values of the time within this interval. This is used later to calculate the position of the pendulum in a bigger span of time so that we can compare it with the prediction from the model.\n",
    "\n",
    "Lastly, the code solves the equation of the pendulum N times in two sets. The first set considers the t spacing and the second one considers the t_pred that was calculate before. \n",
    "\n",
    "The data is saved in the format th1,th2 (the ones calculated with t), t_pred, and th1_pred, th2_pred (the ones calculated with t_pred). \n",
    "\n",
    "The parameters are saved in the format L1,L2,m1,m2."
   ]
  },
  {
   "cell_type": "code",
   "execution_count": 2,
   "id": "9764745e",
   "metadata": {},
   "outputs": [
    {
     "name": "stdout",
     "output_type": "stream",
     "text": [
      "Calculations are at 0.0 %\n",
      "Calculations are at 10.0 %\n",
      "Calculations are at 20.0 %\n",
      "Calculations are at 30.0 %\n",
      "Calculations are at 40.0 %\n",
      "Calculations are at 50.0 %\n",
      "Calculations are at 60.0 %\n",
      "Calculations are at 70.0 %\n",
      "Calculations are at 80.0 %\n",
      "Calculations are at 90.0 %\n"
     ]
    },
    {
     "data": {
      "text/plain": [
       "'Data generation complete'"
      ]
     },
     "execution_count": 2,
     "metadata": {},
     "output_type": "execute_result"
    }
   ],
   "source": [
    "edo.generate_data(100000, 5, 1000, L1_int=[1,1.15], L2_int=[1,1.15], m1_int=[1,1.15], m2_int=[1,1.15],\n",
    "              Theta_1_ini_int=[np.pi/36,np.pi/36], Theta_2_ini_int=[np.pi/18,np.pi/18],\n",
    "                  show=True, fileName='Double Pendulum data')"
   ]
  },
  {
   "cell_type": "markdown",
   "id": "fb5dccb8",
   "metadata": {},
   "source": [
    "# Training the data and saving it for later use #\n",
    "\n",
    "Once the data is generated, we load it to use it for the training. The data loader file requires two arguments:\n",
    "\n",
    "    1. validation_size_p -> the percentage of the data that goes into validation.\n",
    "    2. file name -> name of the file.\n",
    "    \n",
    "The file separates the data according to the first argument. In order, the outputs of the function are training data, validation data, training states, validation states and parameters (which is a blank argument and seems to have no use)."
   ]
  },
  {
   "cell_type": "code",
   "execution_count": 3,
   "id": "d045e838",
   "metadata": {},
   "outputs": [],
   "source": [
    "td, vd, ts, vs, states=dl.load(5, 'Double Pendulum V6')"
   ]
  },
  {
   "cell_type": "code",
   "execution_count": 4,
   "id": "2f41a3ac",
   "metadata": {},
   "outputs": [
    {
     "name": "stdout",
     "output_type": "stream",
     "text": [
      "(95000, 1000)\n"
     ]
    }
   ],
   "source": [
    "print(td[0].shape)"
   ]
  },
  {
   "cell_type": "markdown",
   "id": "084e7a3e",
   "metadata": {},
   "source": [
    "# 4 neurons\n",
    "\n",
    "### Parameters\n",
    "\n",
    "Input size: 1000\n",
    "Latent size: 4\n",
    "Output size: 1\n",
    "\n",
    "### Data\n",
    "\n",
    "Training data: 95000 samples\n",
    "Validation data: 5000 samples\n",
    "\n",
    "### Training\n",
    "\n",
    "1. 1000 epochs, batch size 512, learning rate 0.001\n",
    "2. 1000 epochs, batch size 512, learning rate 0.001\n",
    "3. 1000 epochs, batch size 1024, learning rate 0.0001\n",
    "4. 1000 epochs, batch size 2048, learning rate 0.0001\n",
    "5. 2000 epochs, batch size 2048, learning rate 0.00001"
   ]
  },
  {
   "cell_type": "code",
   "execution_count": 5,
   "id": "2efad198",
   "metadata": {},
   "outputs": [],
   "source": [
    "net_4 = nn2.Network(1000,4,1,1,encoder_num_units=[500, 100])"
   ]
  },
  {
   "cell_type": "code",
   "execution_count": 6,
   "id": "2163ce50",
   "metadata": {},
   "outputs": [
    {
     "data": {
      "text/plain": [
       "4.401304"
      ]
     },
     "execution_count": 6,
     "metadata": {},
     "output_type": "execute_result"
    }
   ],
   "source": [
    "net_4.run(td, net_4.recon_loss)"
   ]
  },
  {
   "cell_type": "code",
   "execution_count": 7,
   "id": "67f044fc",
   "metadata": {},
   "outputs": [
    {
     "data": {
      "application/vnd.jupyter.widget-view+json": {
       "model_id": "43615877a2ea4c98abf3434ed564399e",
       "version_major": 2,
       "version_minor": 0
      },
      "text/plain": [
       "  0%|          | 0/1000 [00:00<?, ?it/s]"
      ]
     },
     "metadata": {},
     "output_type": "display_data"
    }
   ],
   "source": [
    "# Train 1\n",
    "net_4.train(1000, 512, 0.001, td, vd)"
   ]
  },
  {
   "cell_type": "code",
   "execution_count": 8,
   "id": "64b543ea",
   "metadata": {},
   "outputs": [
    {
     "data": {
      "text/plain": [
       "0.025325805"
      ]
     },
     "execution_count": 8,
     "metadata": {},
     "output_type": "execute_result"
    }
   ],
   "source": [
    "net_4.run(vd, net_4.recon_loss)"
   ]
  },
  {
   "cell_type": "code",
   "execution_count": 9,
   "id": "d3f052e8",
   "metadata": {},
   "outputs": [
    {
     "data": {
      "application/vnd.jupyter.widget-view+json": {
       "model_id": "0f0ce9143b354eddbbf97cdf7996165d",
       "version_major": 2,
       "version_minor": 0
      },
      "text/plain": [
       "  0%|          | 0/1000 [00:00<?, ?it/s]"
      ]
     },
     "metadata": {},
     "output_type": "display_data"
    }
   ],
   "source": [
    "# Train 2\n",
    "net_4.train(1000, 512, 0.001, td, vd)"
   ]
  },
  {
   "cell_type": "code",
   "execution_count": 10,
   "id": "3197989e",
   "metadata": {},
   "outputs": [
    {
     "data": {
      "text/plain": [
       "0.0059536532"
      ]
     },
     "execution_count": 10,
     "metadata": {},
     "output_type": "execute_result"
    }
   ],
   "source": [
    "net_4.run(vd, net_4.recon_loss)"
   ]
  },
  {
   "cell_type": "code",
   "execution_count": 11,
   "id": "0e0fc7f2",
   "metadata": {},
   "outputs": [
    {
     "data": {
      "application/vnd.jupyter.widget-view+json": {
       "model_id": "b1c6d15c3c774b1cbf04cdf457e0e47e",
       "version_major": 2,
       "version_minor": 0
      },
      "text/plain": [
       "  0%|          | 0/1000 [00:00<?, ?it/s]"
      ]
     },
     "metadata": {},
     "output_type": "display_data"
    }
   ],
   "source": [
    "# Train 3\n",
    "net_4.train(1000, 1024, 0.0001, td, vd)"
   ]
  },
  {
   "cell_type": "code",
   "execution_count": 12,
   "id": "af2b437e",
   "metadata": {},
   "outputs": [
    {
     "data": {
      "text/plain": [
       "0.008298897"
      ]
     },
     "execution_count": 12,
     "metadata": {},
     "output_type": "execute_result"
    }
   ],
   "source": [
    "net_4.run(vd, net_4.recon_loss)"
   ]
  },
  {
   "cell_type": "code",
   "execution_count": 13,
   "id": "60c1a343",
   "metadata": {},
   "outputs": [
    {
     "data": {
      "application/vnd.jupyter.widget-view+json": {
       "model_id": "5079a7c4cad940db963d212a4593be33",
       "version_major": 2,
       "version_minor": 0
      },
      "text/plain": [
       "  0%|          | 0/1000 [00:00<?, ?it/s]"
      ]
     },
     "metadata": {},
     "output_type": "display_data"
    }
   ],
   "source": [
    "# Train 4\n",
    "net_4.train(1000, 2048, 0.0001, td, vd)"
   ]
  },
  {
   "cell_type": "code",
   "execution_count": 14,
   "id": "b559bfb3",
   "metadata": {},
   "outputs": [
    {
     "data": {
      "text/plain": [
       "0.008062871"
      ]
     },
     "execution_count": 14,
     "metadata": {},
     "output_type": "execute_result"
    }
   ],
   "source": [
    "net_4.run(vd, net_4.recon_loss)"
   ]
  },
  {
   "cell_type": "code",
   "execution_count": 15,
   "id": "7c08238b",
   "metadata": {},
   "outputs": [
    {
     "data": {
      "application/vnd.jupyter.widget-view+json": {
       "model_id": "e66211c76d714e2bbdaf9ce547f8c527",
       "version_major": 2,
       "version_minor": 0
      },
      "text/plain": [
       "  0%|          | 0/2000 [00:00<?, ?it/s]"
      ]
     },
     "metadata": {},
     "output_type": "display_data"
    }
   ],
   "source": [
    "# Train 5\n",
    "net_4.train(2000, 2048, 0.00001, td, vd)"
   ]
  },
  {
   "cell_type": "code",
   "execution_count": 16,
   "id": "5c4f900e",
   "metadata": {},
   "outputs": [
    {
     "data": {
      "text/plain": [
       "0.007908487"
      ]
     },
     "execution_count": 16,
     "metadata": {},
     "output_type": "execute_result"
    }
   ],
   "source": [
    "net_4.run(vd, net_4.recon_loss)"
   ]
  },
  {
   "cell_type": "code",
   "execution_count": 17,
   "id": "8d712f42",
   "metadata": {},
   "outputs": [
    {
     "name": "stdout",
     "output_type": "stream",
     "text": [
      "Saved network to file Double Pendulum V6 4N\n"
     ]
    }
   ],
   "source": [
    "net_4.save('Double Pendulum V6 4N')"
   ]
  },
  {
   "cell_type": "markdown",
   "id": "bf55d474",
   "metadata": {},
   "source": [
    "# 5 neurons\n",
    "\n",
    "This is done with the exact same conditions as the previous case, but with a latent size of 5. The idea here is to check that the NN does not need more than 4 neurons to operate."
   ]
  },
  {
   "cell_type": "code",
   "execution_count": null,
   "id": "eab27e81",
   "metadata": {},
   "outputs": [],
   "source": [
    "net_5 = nn2.Network(1000,5,1,1,encoder_num_units=[500, 100])"
   ]
  },
  {
   "cell_type": "code",
   "execution_count": null,
   "id": "662afca8",
   "metadata": {},
   "outputs": [],
   "source": [
    "net_5.run(td, net_5.recon_loss)"
   ]
  },
  {
   "cell_type": "code",
   "execution_count": null,
   "id": "f34956d7",
   "metadata": {},
   "outputs": [],
   "source": [
    "# Train 1\n",
    "net_5.train(1000, 512, 0.001, td, vd)"
   ]
  },
  {
   "cell_type": "code",
   "execution_count": null,
   "id": "54f1d42f",
   "metadata": {},
   "outputs": [],
   "source": [
    "net_5.run(vd, net_5.recon_loss)"
   ]
  },
  {
   "cell_type": "code",
   "execution_count": null,
   "id": "ee63324b",
   "metadata": {},
   "outputs": [],
   "source": [
    "# Train 2\n",
    "net_5.train(1000, 512, 0.001, td, vd)"
   ]
  },
  {
   "cell_type": "code",
   "execution_count": null,
   "id": "f41d3259",
   "metadata": {},
   "outputs": [],
   "source": [
    "net_5.run(vd, net_5.recon_loss)"
   ]
  },
  {
   "cell_type": "code",
   "execution_count": null,
   "id": "d390c363",
   "metadata": {},
   "outputs": [],
   "source": [
    "# Train 3\n",
    "net_5.train(1000, 1024, 0.0001, td, vd)"
   ]
  },
  {
   "cell_type": "code",
   "execution_count": null,
   "id": "1805dadf",
   "metadata": {},
   "outputs": [],
   "source": [
    "net_5.run(vd, net_5.recon_loss)"
   ]
  },
  {
   "cell_type": "code",
   "execution_count": null,
   "id": "1d8fb6c7",
   "metadata": {},
   "outputs": [],
   "source": [
    "# Train 4\n",
    "net_5.train(1000, 2048, 0.0001, td, vd)"
   ]
  },
  {
   "cell_type": "code",
   "execution_count": null,
   "id": "0b083cfb",
   "metadata": {},
   "outputs": [],
   "source": [
    "net_5.run(vd, net_5.recon_loss)"
   ]
  },
  {
   "cell_type": "code",
   "execution_count": null,
   "id": "e32f7b55",
   "metadata": {},
   "outputs": [],
   "source": [
    "# Train 5\n",
    "net_4.train(2000, 2048, 0.00001, td, vd)"
   ]
  },
  {
   "cell_type": "code",
   "execution_count": null,
   "id": "359f987c",
   "metadata": {},
   "outputs": [],
   "source": [
    "net_5.run(vd, net_5.recon_loss)"
   ]
  },
  {
   "cell_type": "code",
   "execution_count": null,
   "id": "48469247",
   "metadata": {},
   "outputs": [],
   "source": [
    "net_5.save('Double Pendulum data')"
   ]
  }
 ],
 "metadata": {
  "kernelspec": {
   "display_name": "Python 3",
   "language": "python",
   "name": "python3"
  },
  "language_info": {
   "codemirror_mode": {
    "name": "ipython",
    "version": 3
   },
   "file_extension": ".py",
   "mimetype": "text/x-python",
   "name": "python",
   "nbconvert_exporter": "python",
   "pygments_lexer": "ipython3",
   "version": "3.8.8"
  }
 },
 "nbformat": 4,
 "nbformat_minor": 5
}
