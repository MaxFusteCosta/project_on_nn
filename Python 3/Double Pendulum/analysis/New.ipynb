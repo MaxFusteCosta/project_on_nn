{
 "cells": [
  {
   "cell_type": "code",
   "execution_count": 30,
   "id": "5d2935bd",
   "metadata": {},
   "outputs": [],
   "source": [
    "import sys\n",
    "sys.path.append(r'C:\\Users\\maxfu\\OneDrive\\Documentos\\Master\\Maximaster\\Year 2 - Period 1\\Project\\Double Pendulum\\Double Pendulum')\n",
    "import numpy as np\n",
    "from scinet import *\n",
    "import scinet.pendulum as edo"
   ]
  },
  {
   "cell_type": "code",
   "execution_count": 31,
   "id": "f857b5cd",
   "metadata": {},
   "outputs": [],
   "source": [
    "\"\"\"\n",
    "We start by generating the data. The parameters in the function are t_max (maximum value \n",
    "of the time), t_int (number of time steps desired), L1, L2, m1 and m2 (parameters of the\n",
    "pendulum) and Th1_i and Th2_i (initial values of the angles).\n",
    "\"\"\"\n",
    "\n",
    "edo.generate_data(10, 100, 1, 1, 1, 1, 3*np.pi/7, 3*np.pi/4, fileName='Pendulum data');"
   ]
  },
  {
   "cell_type": "code",
   "execution_count": 32,
   "id": "1c4879e6",
   "metadata": {},
   "outputs": [],
   "source": [
    "\"\"\"\n",
    "We extract the training data and the validation data and states. Here, the data are the cartesian\n",
    "coordinates and the states are the angles.\n",
    "\"\"\"\n",
    "td, vd, ts, vs = dl.load(10, 'Pendulum data')"
   ]
  },
  {
   "cell_type": "markdown",
   "id": "582a9781",
   "metadata": {},
   "source": [
    "# Creation and Training of the NN #"
   ]
  },
  {
   "cell_type": "code",
   "execution_count": 33,
   "id": "98db1042",
   "metadata": {},
   "outputs": [],
   "source": [
    "\"\"\"\n",
    "Next we create the NN. The parameters are the latent size (number of latent neurons to be used),\n",
    "the input size (number of time steps used for initial input into the network), the time series\n",
    "length (number of time steps) and the output size (number of values in each time step)\n",
    "\"\"\"\n",
    "\n",
    "net = nn.Network(2,4,100,2)"
   ]
  },
  {
   "cell_type": "code",
   "execution_count": 34,
   "id": "4d129600",
   "metadata": {},
   "outputs": [
    {
     "data": {
      "application/vnd.jupyter.widget-view+json": {
       "model_id": "af0ac6d53f17449bbc63d1a9d6aee294",
       "version_major": 2,
       "version_minor": 0
      },
      "text/plain": [
       "  0%|          | 0/50 [00:00<?, ?it/s]"
      ]
     },
     "metadata": {},
     "output_type": "display_data"
    },
    {
     "ename": "IndexError",
     "evalue": "index 1 is out of bounds for axis 0 with size 1",
     "output_type": "error",
     "traceback": [
      "\u001b[1;31m---------------------------------------------------------------------------\u001b[0m",
      "\u001b[1;31mIndexError\u001b[0m                                Traceback (most recent call last)",
      "\u001b[1;32m<ipython-input-34-79292f7dcc78>\u001b[0m in \u001b[0;36m<module>\u001b[1;34m\u001b[0m\n\u001b[0;32m      4\u001b[0m \"\"\"\n\u001b[0;32m      5\u001b[0m \u001b[1;33m\u001b[0m\u001b[0m\n\u001b[1;32m----> 6\u001b[1;33m \u001b[0mnet\u001b[0m\u001b[1;33m.\u001b[0m\u001b[0mtrain\u001b[0m\u001b[1;33m(\u001b[0m\u001b[1;36m50\u001b[0m\u001b[1;33m,\u001b[0m \u001b[1;36m256\u001b[0m\u001b[1;33m,\u001b[0m \u001b[1;36m0.001\u001b[0m\u001b[1;33m,\u001b[0m \u001b[0mtd\u001b[0m\u001b[1;33m,\u001b[0m \u001b[0mvd\u001b[0m\u001b[1;33m)\u001b[0m\u001b[1;33m\u001b[0m\u001b[1;33m\u001b[0m\u001b[0m\n\u001b[0m",
      "\u001b[1;32m~\\OneDrive\\Documentos\\Master\\Maximaster\\Year 2 - Period 1\\Project\\Double Pendulum\\Double Pendulum\\scinet\\model.py\u001b[0m in \u001b[0;36mtrain\u001b[1;34m(self, epoch_num, batch_size, learning_rate, training_data, validation_data, beta_fun, test_step)\u001b[0m\n\u001b[0;32m     85\u001b[0m \u001b[1;33m\u001b[0m\u001b[0m\n\u001b[0;32m     86\u001b[0m                 \u001b[1;32mif\u001b[0m \u001b[0mtest_step\u001b[0m \u001b[1;32mis\u001b[0m \u001b[1;32mnot\u001b[0m \u001b[1;32mNone\u001b[0m \u001b[1;32mand\u001b[0m \u001b[0mself\u001b[0m\u001b[1;33m.\u001b[0m\u001b[0mtot_epochs\u001b[0m \u001b[1;33m>\u001b[0m \u001b[1;36m0\u001b[0m \u001b[1;32mand\u001b[0m \u001b[0mself\u001b[0m\u001b[1;33m.\u001b[0m\u001b[0mtot_epochs\u001b[0m \u001b[1;33m%\u001b[0m \u001b[0mtest_step\u001b[0m \u001b[1;33m==\u001b[0m \u001b[1;36m0\u001b[0m\u001b[1;33m:\u001b[0m\u001b[1;33m\u001b[0m\u001b[1;33m\u001b[0m\u001b[0m\n\u001b[1;32m---> 87\u001b[1;33m                     \u001b[0mself\u001b[0m\u001b[1;33m.\u001b[0m\u001b[0mtest\u001b[0m\u001b[1;33m(\u001b[0m\u001b[0mvalidation_data\u001b[0m\u001b[1;33m,\u001b[0m \u001b[0mbeta\u001b[0m\u001b[1;33m=\u001b[0m\u001b[0mcurrent_beta\u001b[0m\u001b[1;33m)\u001b[0m\u001b[1;33m\u001b[0m\u001b[1;33m\u001b[0m\u001b[0m\n\u001b[0m\u001b[0;32m     88\u001b[0m \u001b[1;33m\u001b[0m\u001b[0m\n\u001b[0;32m     89\u001b[0m                 \u001b[1;32mfor\u001b[0m \u001b[0mstep\u001b[0m\u001b[1;33m,\u001b[0m \u001b[0mdata_dict\u001b[0m \u001b[1;32min\u001b[0m \u001b[0menumerate\u001b[0m\u001b[1;33m(\u001b[0m\u001b[0mself\u001b[0m\u001b[1;33m.\u001b[0m\u001b[0mgen_batch\u001b[0m\u001b[1;33m(\u001b[0m\u001b[0mtraining_data\u001b[0m\u001b[1;33m,\u001b[0m \u001b[0mbatch_size\u001b[0m\u001b[1;33m)\u001b[0m\u001b[1;33m)\u001b[0m\u001b[1;33m:\u001b[0m\u001b[1;33m\u001b[0m\u001b[1;33m\u001b[0m\u001b[0m\n",
      "\u001b[1;32m~\\OneDrive\\Documentos\\Master\\Maximaster\\Year 2 - Period 1\\Project\\Double Pendulum\\Double Pendulum\\scinet\\model.py\u001b[0m in \u001b[0;36mgen_batch\u001b[1;34m(self, data, batch_size, shuffle, random_epsilon)\u001b[0m\n\u001b[0;32m    254\u001b[0m                                         initializer=tf.glorot_normal_initializer())\n\u001b[0;32m    255\u001b[0m                         \u001b[1;32mfor\u001b[0m \u001b[0mk\u001b[0m \u001b[1;32min\u001b[0m \u001b[0mrange\u001b[0m\u001b[1;33m(\u001b[0m\u001b[0mlen\u001b[0m\u001b[1;33m(\u001b[0m\u001b[0mout_euler\u001b[0m\u001b[1;33m)\u001b[0m\u001b[1;33m)\u001b[0m\u001b[1;33m\u001b[0m\u001b[1;33m\u001b[0m\u001b[0m\n\u001b[1;32m--> 256\u001b[1;33m                     ]\n\u001b[0m\u001b[0;32m    257\u001b[0m                     self.euler_biases = [\n\u001b[0;32m    258\u001b[0m                         tf.get_variable('b_euler{}'.format(k),\n",
      "\u001b[1;32m~\\OneDrive\\Documentos\\Master\\Maximaster\\Year 2 - Period 1\\Project\\Double Pendulum\\Double Pendulum\\scinet\\model.py\u001b[0m in \u001b[0;36m<listcomp>\u001b[1;34m(.0)\u001b[0m\n\u001b[0;32m    254\u001b[0m                                         initializer=tf.glorot_normal_initializer())\n\u001b[0;32m    255\u001b[0m                         \u001b[1;32mfor\u001b[0m \u001b[0mk\u001b[0m \u001b[1;32min\u001b[0m \u001b[0mrange\u001b[0m\u001b[1;33m(\u001b[0m\u001b[0mlen\u001b[0m\u001b[1;33m(\u001b[0m\u001b[0mout_euler\u001b[0m\u001b[1;33m)\u001b[0m\u001b[1;33m)\u001b[0m\u001b[1;33m\u001b[0m\u001b[1;33m\u001b[0m\u001b[0m\n\u001b[1;32m--> 256\u001b[1;33m                     ]\n\u001b[0m\u001b[0;32m    257\u001b[0m                     self.euler_biases = [\n\u001b[0;32m    258\u001b[0m                         tf.get_variable('b_euler{}'.format(k),\n",
      "\u001b[1;31mIndexError\u001b[0m: index 1 is out of bounds for axis 0 with size 1"
     ]
    }
   ],
   "source": [
    "\"\"\"\n",
    "It is now time to train our data. From left to right, the parameters are the number of epochs,\n",
    "the batch size, the learning rate, the training data and the validation data.\n",
    "\"\"\"\n",
    "\n",
    "net.train(50, 256, 0.001, td, vd)"
   ]
  },
  {
   "cell_type": "code",
   "execution_count": null,
   "id": "9d2b99f3",
   "metadata": {},
   "outputs": [],
   "source": []
  }
 ],
 "metadata": {
  "kernelspec": {
   "display_name": "Python 3",
   "language": "python",
   "name": "python3"
  },
  "language_info": {
   "codemirror_mode": {
    "name": "ipython",
    "version": 3
   },
   "file_extension": ".py",
   "mimetype": "text/x-python",
   "name": "python",
   "nbconvert_exporter": "python",
   "pygments_lexer": "ipython3",
   "version": "3.8.8"
  }
 },
 "nbformat": 4,
 "nbformat_minor": 5
}
