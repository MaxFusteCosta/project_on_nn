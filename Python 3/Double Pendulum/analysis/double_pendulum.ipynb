{
 "cells": [
  {
   "cell_type": "code",
   "execution_count": 1,
   "metadata": {},
   "outputs": [
    {
     "name": "stdout",
     "output_type": "stream",
     "text": [
      "WARNING:tensorflow:From C:\\Users\\maxfu\\anaconda3\\lib\\site-packages\\tensorflow\\python\\compat\\v2_compat.py:107: disable_resource_variables (from tensorflow.python.ops.variable_scope) is deprecated and will be removed in a future version.\n",
      "Instructions for updating:\n",
      "non-resource variables are not supported in the long term\n"
     ]
    }
   ],
   "source": [
    "import sys\n",
    "sys.path.append(r'C:\\Users\\maxfu\\OneDrive\\Documentos\\Master\\Maximaster\\Year 2 - Period 1\\Project\\Double Pendulum\\Double Pendulum')\n",
    "import numpy as np\n",
    "import matplotlib.pyplot as plt\n",
    "from mpl_toolkits.mplot3d import Axes3D\n",
    "from matplotlib import cm\n",
    "from scinet import *\n",
    "import scinet.pendulum as edo\n",
    "from sklearn.feature_selection import mutual_info_regression"
   ]
  },
  {
   "cell_type": "markdown",
   "metadata": {},
   "source": [
    "### Helper functions for plots"
   ]
  },
  {
   "cell_type": "code",
   "execution_count": 8,
   "metadata": {},
   "outputs": [],
   "source": [
    "def derivatives(y,t,L1,L2,m1,m2):\n",
    "    \n",
    "    g=9.81\n",
    "    Theta_1,Theta_1_dot,Theta_2,Theta_2_dot = y\n",
    "    \n",
    "    C1=np.cos(Theta_1-Theta_2)\n",
    "    C2=np.sin(Theta_1-Theta_2)\n",
    "    \n",
    "    # The first derivative of Theta is named Z, and so the second derivative is named Z_dot\n",
    "    \n",
    "    Z_1=Theta_1_dot\n",
    "    Z_2=Theta_2_dot\n",
    "    Z_1_dot=(m2*g*np.sin(Theta_2)*C1-m2*C2*(L1*Z_1**2*C1+L2*Z_2**2)-(m1+m2)*g*np.sin(Theta_1))/(L1*(m1+m2*C2**2))\n",
    "    Z_2_dot=((m1+m2)*(L1*Z_1**2*C2-g*np.sin(Theta_2)+g*np.sin(Theta_1)*C1)+m2*L2*Z_2**2*C2*C1)/(L2*(m1+m2*C2**2))\n",
    "    \n",
    "    return Z_1,Z_1_dot,Z_2,Z_2_dot\n",
    "\n",
    "def gen_input(Th1_i,Th2_i,L1,L2,m1,m2, tt_predicted):\n",
    "    tt_in = np.linspace(0, 5, 50)\n",
    "    sol_i = np.array([Th1_i,0,Th2_i,0])\n",
    "    sol = np.array([odeint(derivatives, sol_i, t_sample, args=(L1,L2,m1,m2)) for _ in tt_predicted])\n",
    "    Th1,Th2=sol[:,0],sol[:,2]\n",
    "    sol_res = np.reshape(tt_predicted, (-1, 1))\n",
    "#   out = in2 #dummy filler\n",
    "    return [Th1,Th2, sol_res, out]"
   ]
  },
  {
   "cell_type": "code",
   "execution_count": 9,
   "metadata": {},
   "outputs": [],
   "source": [
    "blue_color='#000cff'\n",
    "orange_color='#ff7700'"
   ]
  },
  {
   "cell_type": "code",
   "execution_count": 10,
   "metadata": {},
   "outputs": [],
   "source": [
    "def pendulum_prediction(net, b, kappa):    \n",
    "    tt_given = np.linspace(0, 10, 250)\n",
    "    tt_predicted = np.linspace(0, 10, 250)\n",
    "    sol_given_i = np.array([Th1_i,0,Th2_i,0])\n",
    "    sol_given = odeint(derivatives, sol_given_i, tt_given, args=(L1,L2,m1,m2))\n",
    "    Th1_given,Th2_given=sol_given[:,0],sol_given[:,2]\n",
    "    sol_pred = net.run(gen_input(Th1_i,Th2_i,1,1,1,1, tt_predicted), net.output).ravel()\n",
    "    Th1_pred,Th2_pred=sol_pred[:,0],sol_pred[:,1]\n",
    "    \n",
    "    fig = plt.figure(figsize=(3.4, 2.1))\n",
    "    ax = fig.add_subplot(111)\n",
    "    ax.plot(Th1_given, Th2_given, color=orange_color, label='True time evolution')\n",
    "    ax.plot(Th1_pred, Th2_pred, '--', color=blue_color, label='Predicted time evolution')\n",
    "    ax.set_xlabel(r'$\\Theta_{1}$')\n",
    "    ax.set_ylabel(r'$\\Theta_{2}$')\n",
    "    handles, labels = ax.get_legend_handles_labels()\n",
    "    lgd=ax.legend(handles, labels,loc='upper center', bbox_to_anchor=(0.6, 1.3), shadow=True, ncol=1)\n",
    "    fig.tight_layout()\n",
    "    return fig"
   ]
  },
  {
   "cell_type": "code",
   "execution_count": 11,
   "metadata": {},
   "outputs": [],
   "source": [
    "def osc_representation_plot(net, b_range, kappa_range, step_num=100, eval_time=7.5):\n",
    "    bb = np.linspace(*b_range, num=step_num)\n",
    "    kk = np.linspace(*kappa_range, num=step_num)\n",
    "    B, K = np.meshgrid(bb, kk)\n",
    "    out = np.array([net.run(gen_input(1, 0, b, kappa, [eval_time]), net.mu)[0] for b, kappa in zip(np.ravel(B), np.ravel(K))])\n",
    "    fig = plt.figure(figsize=(net.latent_size*3.9, 2.1))\n",
    "    for i in range(net.latent_size):\n",
    "        zs = out[:, i]\n",
    "        ax = fig.add_subplot('1{}{}'.format(net.latent_size, i + 1), projection='3d')\n",
    "        Z = np.reshape(zs, B.shape)\n",
    "        surf = ax.plot_surface(B, K, Z, rstride=1, cstride=1, cmap=cm.inferno, linewidth=0)\n",
    "        ax.set_xlabel(r'$b$ [$kg/s$]')\n",
    "        ax.set_ylabel(r'$\\kappa$ [$kg/s^2$]')\n",
    "        ax.set_zlabel('Latent activation {}'.format(i + 1))\n",
    "        if (i==2):\n",
    "            ax.set_zlim(-1,1) #Fix the scale for the third plot, where the activation is close to zero\n",
    "        ax.set_zticks([-1,-0.5,0,0.5,1])\n",
    "    fig.tight_layout()\n",
    "    return fig"
   ]
  },
  {
   "cell_type": "markdown",
   "metadata": {},
   "source": [
    "## Load pre-trained model\n",
    "\n",
    "### Parameters\n",
    "- `latent_size: 2` \n",
    "- `input_size: 50`\n",
    "- `input2_size: 1`\n",
    "- `output_size: 1`\n",
    "- `encoder_num_units: [500, 100]`\n",
    "- other parameters: default values\n",
    "### Data\n",
    "- Only kappa and b are varied (in the default intervals), A_0 and delta_0 are fixed\n",
    "- `t_sample: np.linspace(0, 5, 50)` (fed into the network)\n",
    "- `t_meas_interval: (0, 10)` (time interval in which prediction times lie)\n",
    "- training data: 95000 samples\n",
    "- validation data: 5000 samples\n",
    "\n",
    "### Training\n",
    "- `epoch_num: 1000`, `batch_size: 512`, `learning_rate: 1e-3`, `beta: 1e-3`"
   ]
  },
  {
   "cell_type": "code",
   "execution_count": 12,
   "metadata": {},
   "outputs": [
    {
     "ename": "FileNotFoundError",
     "evalue": "[Errno 2] No such file or directory: 'C:\\\\Users\\\\maxfu\\\\OneDrive\\\\Documentos\\\\Master\\\\Maximaster\\\\Year 2 - Period 1\\\\Project\\\\Double pendulum\\\\Double Pendulum\\\\tf_save/oscillator.pkl'",
     "output_type": "error",
     "traceback": [
      "\u001b[1;31m---------------------------------------------------------------------------\u001b[0m",
      "\u001b[1;31mFileNotFoundError\u001b[0m                         Traceback (most recent call last)",
      "\u001b[1;32m<ipython-input-12-40a9f27f800b>\u001b[0m in \u001b[0;36m<module>\u001b[1;34m\u001b[0m\n\u001b[1;32m----> 1\u001b[1;33m \u001b[0mnet_2_latent\u001b[0m \u001b[1;33m=\u001b[0m \u001b[0mnn\u001b[0m\u001b[1;33m.\u001b[0m\u001b[0mNetwork\u001b[0m\u001b[1;33m.\u001b[0m\u001b[0mfrom_saved\u001b[0m\u001b[1;33m(\u001b[0m\u001b[1;34m'oscillator'\u001b[0m\u001b[1;33m)\u001b[0m\u001b[1;33m\u001b[0m\u001b[1;33m\u001b[0m\u001b[0m\n\u001b[0m",
      "\u001b[1;32m~\\OneDrive\\Documentos\\Master\\Maximaster\\Year 2 - Period 1\\Project\\Double Pendulum\\Double Pendulum\\scinet\\model.py\u001b[0m in \u001b[0;36mfrom_saved\u001b[1;34m(cls, file_name, change_params)\u001b[0m\n\u001b[0;32m    143\u001b[0m         \u001b[0mfile_name\u001b[0m \u001b[1;33m(\u001b[0m\u001b[0mstr\u001b[0m\u001b[1;33m)\u001b[0m\u001b[1;33m:\u001b[0m \u001b[0mmodel\u001b[0m \u001b[1;32mis\u001b[0m \u001b[0mloaded\u001b[0m \u001b[1;32mfrom\u001b[0m \u001b[0mtf_save\u001b[0m\u001b[1;33m/\u001b[0m\u001b[0mfile_name\u001b[0m\u001b[1;33m.\u001b[0m\u001b[0mckpt\u001b[0m\u001b[1;33m\u001b[0m\u001b[1;33m\u001b[0m\u001b[0m\n\u001b[0;32m    144\u001b[0m         \"\"\"\n\u001b[1;32m--> 145\u001b[1;33m         \u001b[1;32mwith\u001b[0m \u001b[0mopen\u001b[0m\u001b[1;33m(\u001b[0m\u001b[0mio\u001b[0m\u001b[1;33m.\u001b[0m\u001b[0mtf_save_path\u001b[0m \u001b[1;33m+\u001b[0m \u001b[0mfile_name\u001b[0m \u001b[1;33m+\u001b[0m \u001b[1;34m'.pkl'\u001b[0m\u001b[1;33m,\u001b[0m \u001b[1;34m'rb'\u001b[0m\u001b[1;33m)\u001b[0m \u001b[1;32mas\u001b[0m \u001b[0mf\u001b[0m\u001b[1;33m:\u001b[0m\u001b[1;33m\u001b[0m\u001b[1;33m\u001b[0m\u001b[0m\n\u001b[0m\u001b[0;32m    146\u001b[0m             \u001b[0mparams\u001b[0m \u001b[1;33m=\u001b[0m \u001b[0mpickle\u001b[0m\u001b[1;33m.\u001b[0m\u001b[0mload\u001b[0m\u001b[1;33m(\u001b[0m\u001b[0mf\u001b[0m\u001b[1;33m)\u001b[0m\u001b[1;33m\u001b[0m\u001b[1;33m\u001b[0m\u001b[0m\n\u001b[0;32m    147\u001b[0m         \u001b[0mparams\u001b[0m\u001b[1;33m[\u001b[0m\u001b[1;34m'load_file'\u001b[0m\u001b[1;33m]\u001b[0m \u001b[1;33m=\u001b[0m \u001b[0mfile_name\u001b[0m\u001b[1;33m\u001b[0m\u001b[1;33m\u001b[0m\u001b[0m\n",
      "\u001b[1;31mFileNotFoundError\u001b[0m: [Errno 2] No such file or directory: 'C:\\\\Users\\\\maxfu\\\\OneDrive\\\\Documentos\\\\Master\\\\Maximaster\\\\Year 2 - Period 1\\\\Project\\\\Double pendulum\\\\Double Pendulum\\\\tf_save/oscillator.pkl'"
     ]
    }
   ],
   "source": [
    "net_2_latent = nn.Network.from_saved('oscillator')"
   ]
  },
  {
   "cell_type": "code",
   "execution_count": null,
   "metadata": {
    "collapsed": true
   },
   "outputs": [],
   "source": [
    "pendulum_prediction(net_2_latent, 0.5, 5.);"
   ]
  },
  {
   "cell_type": "code",
   "execution_count": null,
   "metadata": {
    "collapsed": true
   },
   "outputs": [],
   "source": [
    "%matplotlib tk\n",
    "osc_representation_plot(net_2_latent, [0.5, 1], [5, 10]);"
   ]
  },
  {
   "cell_type": "markdown",
   "metadata": {},
   "source": [
    "## Load pre-trained model\n",
    "\n",
    "### Parameters\n",
    "- `latent_size: 3` \n",
    "- Rest as for `net_2_latent`"
   ]
  },
  {
   "cell_type": "code",
   "execution_count": null,
   "metadata": {},
   "outputs": [],
   "source": [
    "net_3_latent = nn.Network.from_saved('oscillator_3_latent')"
   ]
  },
  {
   "cell_type": "code",
   "execution_count": null,
   "metadata": {},
   "outputs": [],
   "source": [
    "pendulum_prediction(net_3_latent, 0.5, 5.);"
   ]
  },
  {
   "cell_type": "code",
   "execution_count": null,
   "metadata": {
    "collapsed": true
   },
   "outputs": [],
   "source": [
    "%matplotlib tk\n",
    "osc_representation_plot(net_3_latent, [0.5, 1], [5, 10]);"
   ]
  },
  {
   "cell_type": "markdown",
   "metadata": {},
   "source": [
    "## Calculate L2 norm of error"
   ]
  },
  {
   "cell_type": "code",
   "execution_count": null,
   "metadata": {
    "collapsed": true
   },
   "outputs": [],
   "source": [
    "data, states, params = edo.oscillator_data(50000, t_meas_interval=(0, 10))"
   ]
  },
  {
   "cell_type": "code",
   "execution_count": null,
   "metadata": {
    "collapsed": true
   },
   "outputs": [],
   "source": [
    "np.sqrt(net_3_latent.run(data, net_3_latent.recon_loss))"
   ]
  },
  {
   "cell_type": "markdown",
   "metadata": {},
   "source": [
    "## Calculate mutual information between latent neurons"
   ]
  },
  {
   "cell_type": "code",
   "execution_count": null,
   "metadata": {
    "collapsed": true
   },
   "outputs": [],
   "source": [
    "data, states, params = edo.oscillator_data(200000, t_meas_interval=(0, 10))"
   ]
  },
  {
   "cell_type": "code",
   "execution_count": null,
   "metadata": {
    "collapsed": true
   },
   "outputs": [],
   "source": [
    "# Calculate the mutual information between two latent neurons\n",
    "def mi(net, data, latent_neuron_1, latent_neuron_2):\n",
    "    mu = net_3_latent.run(data, net_3_latent.mu)\n",
    "    mi_estimate = mutual_info_regression(mu[:,latent_neuron_1].reshape(-1, 1), mu[:,latent_neuron_2], discrete_features = False)\n",
    "    return mi_estimate[0]"
   ]
  },
  {
   "cell_type": "code",
   "execution_count": null,
   "metadata": {},
   "outputs": [],
   "source": [
    "mi(net_3_latent, data, 0, 0)"
   ]
  },
  {
   "cell_type": "code",
   "execution_count": null,
   "metadata": {},
   "outputs": [],
   "source": [
    "mi(net_3_latent, data, 0, 1)"
   ]
  }
 ],
 "metadata": {
  "anaconda-cloud": {},
  "kernelspec": {
   "display_name": "Python 3",
   "language": "python",
   "name": "python3"
  },
  "language_info": {
   "codemirror_mode": {
    "name": "ipython",
    "version": 3
   },
   "file_extension": ".py",
   "mimetype": "text/x-python",
   "name": "python",
   "nbconvert_exporter": "python",
   "pygments_lexer": "ipython3",
   "version": "3.8.8"
  }
 },
 "nbformat": 4,
 "nbformat_minor": 2
}
